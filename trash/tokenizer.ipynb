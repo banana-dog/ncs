{
 "cells": [
  {
   "cell_type": "code",
   "execution_count": 3,
   "metadata": {},
   "outputs": [],
   "source": [
    "from transformers import AutoTokenizer, AutoModel\n",
    "import torch\n"
   ]
  },
  {
   "cell_type": "code",
   "execution_count": 4,
   "metadata": {},
   "outputs": [],
   "source": [
    "tokenizer = AutoTokenizer.from_pretrained(\"microsoft/codebert-base\")\n",
    "model = AutoModel.from_pretrained(\"microsoft/codebert-base\")"
   ]
  },
  {
   "cell_type": "code",
   "execution_count": 14,
   "metadata": {},
   "outputs": [],
   "source": [
    "file = open('1.c',mode='r')\n",
    " \n",
    "s3 = file.read()\n",
    " \n",
    "file.close()"
   ]
  },
  {
   "cell_type": "code",
   "execution_count": 15,
   "metadata": {},
   "outputs": [],
   "source": [
    "code_tokens=tokenizer.tokenize(s3)\n",
    "tokens=[tokenizer.sep_token]+code_tokens+[tokenizer.eos_token]\n",
    "tokens_ids=tokenizer.convert_tokens_to_ids(tokens)\n",
    "context_embeddings=model(torch.tensor(tokens_ids)[None,:])[0]"
   ]
  },
  {
   "cell_type": "code",
   "execution_count": 17,
   "metadata": {},
   "outputs": [
    {
     "data": {
      "text/plain": [
       "tensor([[[-0.1635, -0.0351, -0.1402,  ..., -0.0832, -0.6304,  0.3927],\n",
       "         [-0.4491, -0.2426,  0.1194,  ..., -1.2519, -0.4932,  0.6764],\n",
       "         [-0.1169, -0.2085,  0.0978,  ..., -0.1523, -0.4771,  0.4398],\n",
       "         ...,\n",
       "         [-0.4296, -0.3534,  0.4248,  ..., -1.0786, -0.2210,  0.8969],\n",
       "         [-0.1620, -0.0344, -0.1397,  ..., -0.0845, -0.6299,  0.3907],\n",
       "         [-0.1616, -0.0345, -0.1396,  ..., -0.0843, -0.6298,  0.3902]]],\n",
       "       grad_fn=<NativeLayerNormBackward0>)"
      ]
     },
     "execution_count": 17,
     "metadata": {},
     "output_type": "execute_result"
    }
   ],
   "source": [
    "context_embeddings"
   ]
  },
  {
   "cell_type": "code",
   "execution_count": null,
   "metadata": {},
   "outputs": [],
   "source": []
  }
 ],
 "metadata": {
  "kernelspec": {
   "display_name": "Python 3",
   "language": "python",
   "name": "python3"
  },
  "language_info": {
   "codemirror_mode": {
    "name": "ipython",
    "version": 3
   },
   "file_extension": ".py",
   "mimetype": "text/x-python",
   "name": "python",
   "nbconvert_exporter": "python",
   "pygments_lexer": "ipython3",
   "version": "3.11.6"
  }
 },
 "nbformat": 4,
 "nbformat_minor": 2
}
